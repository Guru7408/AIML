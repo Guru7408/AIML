{
 "cells": [
  {
   "cell_type": "markdown",
   "id": "c4da9e1f-4a08-4c2d-99bc-95e3416544b5",
   "metadata": {},
   "source": [
    "## Experiment-5"
   ]
  },
  {
   "cell_type": "markdown",
   "id": "c5aca560-bc45-489f-9d26-dcddce0c323c",
   "metadata": {},
   "source": [
    "## 5a) Consider Titanic dataset & handle the missing values using different methods.\n",
    "### b) Consider Titanic (or any other dataset) & detect the outliers & handle the outerliers\n",
    "### c)Consider any relevant dataset and perform data transformation operations"
   ]
  },
  {
   "cell_type": "code",
   "execution_count": 1,
   "id": "d2865089",
   "metadata": {},
   "outputs": [
    {
     "data": {
      "text/html": [
       "<div>\n",
       "<style scoped>\n",
       "    .dataframe tbody tr th:only-of-type {\n",
       "        vertical-align: middle;\n",
       "    }\n",
       "\n",
       "    .dataframe tbody tr th {\n",
       "        vertical-align: top;\n",
       "    }\n",
       "\n",
       "    .dataframe thead th {\n",
       "        text-align: right;\n",
       "    }\n",
       "</style>\n",
       "<table border=\"1\" class=\"dataframe\">\n",
       "  <thead>\n",
       "    <tr style=\"text-align: right;\">\n",
       "      <th></th>\n",
       "      <th>survived</th>\n",
       "      <th>pclass</th>\n",
       "      <th>sex</th>\n",
       "      <th>age</th>\n",
       "      <th>sibsp</th>\n",
       "      <th>parch</th>\n",
       "      <th>fare</th>\n",
       "      <th>embarked</th>\n",
       "      <th>class</th>\n",
       "      <th>who</th>\n",
       "      <th>adult_male</th>\n",
       "      <th>deck</th>\n",
       "      <th>embark_town</th>\n",
       "      <th>alive</th>\n",
       "      <th>alone</th>\n",
       "    </tr>\n",
       "  </thead>\n",
       "  <tbody>\n",
       "    <tr>\n",
       "      <th>0</th>\n",
       "      <td>0</td>\n",
       "      <td>3</td>\n",
       "      <td>male</td>\n",
       "      <td>22.0</td>\n",
       "      <td>1</td>\n",
       "      <td>0</td>\n",
       "      <td>7.2500</td>\n",
       "      <td>S</td>\n",
       "      <td>Third</td>\n",
       "      <td>man</td>\n",
       "      <td>True</td>\n",
       "      <td>NaN</td>\n",
       "      <td>Southampton</td>\n",
       "      <td>no</td>\n",
       "      <td>False</td>\n",
       "    </tr>\n",
       "    <tr>\n",
       "      <th>1</th>\n",
       "      <td>1</td>\n",
       "      <td>1</td>\n",
       "      <td>female</td>\n",
       "      <td>38.0</td>\n",
       "      <td>1</td>\n",
       "      <td>0</td>\n",
       "      <td>71.2833</td>\n",
       "      <td>C</td>\n",
       "      <td>First</td>\n",
       "      <td>woman</td>\n",
       "      <td>False</td>\n",
       "      <td>C</td>\n",
       "      <td>Cherbourg</td>\n",
       "      <td>yes</td>\n",
       "      <td>False</td>\n",
       "    </tr>\n",
       "    <tr>\n",
       "      <th>2</th>\n",
       "      <td>1</td>\n",
       "      <td>3</td>\n",
       "      <td>female</td>\n",
       "      <td>26.0</td>\n",
       "      <td>0</td>\n",
       "      <td>0</td>\n",
       "      <td>7.9250</td>\n",
       "      <td>S</td>\n",
       "      <td>Third</td>\n",
       "      <td>woman</td>\n",
       "      <td>False</td>\n",
       "      <td>NaN</td>\n",
       "      <td>Southampton</td>\n",
       "      <td>yes</td>\n",
       "      <td>True</td>\n",
       "    </tr>\n",
       "    <tr>\n",
       "      <th>3</th>\n",
       "      <td>1</td>\n",
       "      <td>1</td>\n",
       "      <td>female</td>\n",
       "      <td>35.0</td>\n",
       "      <td>1</td>\n",
       "      <td>0</td>\n",
       "      <td>53.1000</td>\n",
       "      <td>S</td>\n",
       "      <td>First</td>\n",
       "      <td>woman</td>\n",
       "      <td>False</td>\n",
       "      <td>C</td>\n",
       "      <td>Southampton</td>\n",
       "      <td>yes</td>\n",
       "      <td>False</td>\n",
       "    </tr>\n",
       "    <tr>\n",
       "      <th>4</th>\n",
       "      <td>0</td>\n",
       "      <td>3</td>\n",
       "      <td>male</td>\n",
       "      <td>35.0</td>\n",
       "      <td>0</td>\n",
       "      <td>0</td>\n",
       "      <td>8.0500</td>\n",
       "      <td>S</td>\n",
       "      <td>Third</td>\n",
       "      <td>man</td>\n",
       "      <td>True</td>\n",
       "      <td>NaN</td>\n",
       "      <td>Southampton</td>\n",
       "      <td>no</td>\n",
       "      <td>True</td>\n",
       "    </tr>\n",
       "  </tbody>\n",
       "</table>\n",
       "</div>"
      ],
      "text/plain": [
       "   survived  pclass     sex   age  sibsp  parch     fare  ...  class    who adult_male  deck  embark_town alive  alone\n",
       "0         0       3    male  22.0      1      0   7.2500  ...  Third    man       True   NaN  Southampton    no  False\n",
       "1         1       1  female  38.0      1      0  71.2833  ...  First  woman      False     C    Cherbourg   yes  False\n",
       "2         1       3  female  26.0      0      0   7.9250  ...  Third  woman      False   NaN  Southampton   yes   True\n",
       "3         1       1  female  35.0      1      0  53.1000  ...  First  woman      False     C  Southampton   yes  False\n",
       "4         0       3    male  35.0      0      0   8.0500  ...  Third    man       True   NaN  Southampton    no   True\n",
       "\n",
       "[5 rows x 15 columns]"
      ]
     },
     "execution_count": 1,
     "metadata": {},
     "output_type": "execute_result"
    }
   ],
   "source": [
    "import pandas as pd\n",
    "import numpy as np\n",
    "import matplotlib.pyplot as plt\n",
    "df=pd.read_csv('C:/Users/Guru Kiran/All CSV files/titanic.csv')\n",
    "df.head(5)"
   ]
  },
  {
   "cell_type": "code",
   "execution_count": 2,
   "id": "ddb0898c",
   "metadata": {},
   "outputs": [
    {
     "data": {
      "text/plain": [
       "survived         0\n",
       "pclass           0\n",
       "sex              0\n",
       "age            177\n",
       "sibsp            0\n",
       "parch            0\n",
       "fare             0\n",
       "embarked         2\n",
       "class            0\n",
       "who              0\n",
       "adult_male       0\n",
       "deck           688\n",
       "embark_town      2\n",
       "alive            0\n",
       "alone            0\n",
       "dtype: int64"
      ]
     },
     "execution_count": 2,
     "metadata": {},
     "output_type": "execute_result"
    }
   ],
   "source": [
    "df.isnull().sum()"
   ]
  },
  {
   "cell_type": "markdown",
   "id": "0c35fccb-42b4-4965-a93f-90da88517b7b",
   "metadata": {},
   "source": [
    "## ->Replacing the missing values with arbitrary value"
   ]
  },
  {
   "cell_type": "code",
   "execution_count": 3,
   "id": "48866599",
   "metadata": {},
   "outputs": [],
   "source": [
    "df['deck'] =df['deck'].fillna('A')"
   ]
  },
  {
   "cell_type": "markdown",
   "id": "b5965232-d275-4c2d-900d-7314ca160060",
   "metadata": {},
   "source": [
    "## ->Replacing the missing values for numerical columns with mean"
   ]
  },
  {
   "cell_type": "code",
   "execution_count": 4,
   "id": "f3c96793",
   "metadata": {},
   "outputs": [],
   "source": [
    "mean = df['age'].mean()\n",
    "df['age'] = df['age'].fillna(mean)"
   ]
  },
  {
   "cell_type": "code",
   "execution_count": 5,
   "id": "7ee61391",
   "metadata": {},
   "outputs": [
    {
     "data": {
      "text/plain": [
       "'A'"
      ]
     },
     "execution_count": 5,
     "metadata": {},
     "output_type": "execute_result"
    }
   ],
   "source": [
    "mode = df['deck'].mode()[0]\n",
    "mode"
   ]
  },
  {
   "cell_type": "markdown",
   "id": "f478e7af-7beb-4cb7-8991-15b3855c1349",
   "metadata": {},
   "source": [
    "## ->Replacing the missing values for categorical columns with mode"
   ]
  },
  {
   "cell_type": "code",
   "execution_count": 6,
   "id": "6a806e5d",
   "metadata": {},
   "outputs": [],
   "source": [
    "mode = df['deck'].mode()[0]\n",
    "df['deck'] = df['deck'].fillna(mode)"
   ]
  },
  {
   "cell_type": "markdown",
   "id": "71e8b54e-610a-4ba7-9dcf-ebc10a2885b0",
   "metadata": {},
   "source": [
    "## ->Replacing the missing values for numerical columns with median"
   ]
  },
  {
   "cell_type": "code",
   "execution_count": 7,
   "id": "3f6cd91a",
   "metadata": {},
   "outputs": [],
   "source": [
    "median = df['age'].median()\n",
    "df['age']= df['age'].fillna(median)"
   ]
  },
  {
   "cell_type": "code",
   "execution_count": 8,
   "id": "ab8f1f96",
   "metadata": {
    "scrolled": true
   },
   "outputs": [
    {
     "data": {
      "text/plain": [
       "survived       0\n",
       "pclass         0\n",
       "sex            0\n",
       "age            0\n",
       "sibsp          0\n",
       "parch          0\n",
       "fare           0\n",
       "embarked       2\n",
       "class          0\n",
       "who            0\n",
       "adult_male     0\n",
       "deck           0\n",
       "embark_town    2\n",
       "alive          0\n",
       "alone          0\n",
       "dtype: int64"
      ]
     },
     "execution_count": 8,
     "metadata": {},
     "output_type": "execute_result"
    }
   ],
   "source": [
    "df.isnull().sum()"
   ]
  },
  {
   "cell_type": "markdown",
   "id": "792a08cb-1029-4341-8574-075975cd4949",
   "metadata": {},
   "source": [
    "## ->Update the csv file"
   ]
  },
  {
   "cell_type": "code",
   "execution_count": 9,
   "id": "6738501f",
   "metadata": {},
   "outputs": [],
   "source": [
    "df.to_csv('Cleaned_Titanic.csv', index=False)"
   ]
  },
  {
   "cell_type": "markdown",
   "id": "e1cc5ebc-9de2-4dcb-b657-d2e785171aa2",
   "metadata": {},
   "source": [
    "## b) Consider Titanic (or any other dataset) & detect the outliers & handle the outerliers"
   ]
  },
  {
   "cell_type": "markdown",
   "id": "fca62230-0f45-47d6-be1b-3d6606e4f6af",
   "metadata": {},
   "source": [
    "## ->Scatter plot to detect outliers"
   ]
  },
  {
   "cell_type": "code",
   "execution_count": 10,
   "id": "fc0953a5-9807-40f7-86ea-6f85ad6c55bb",
   "metadata": {},
   "outputs": [
    {
     "data": {
      "image/png": "[encoded data removed]",
      "text/plain": [
       "<Figure size 1000x400 with 1 Axes>"
      ]
     },
     "metadata": {},
     "output_type": "display_data"
    }
   ],
   "source": [
    "fig,ax = plt.subplots(figsize=(10,4))\n",
    "ax.scatter(df['age'],df['fare'])\n",
    "ax.set_xlabel('Age')\n",
    "ax.set_ylabel('Fare')\n",
    "plt.title(\"Scatter plot\")\n",
    "plt.show()"
   ]
  },
  {
   "cell_type": "markdown",
   "id": "e29a6290-2423-4df1-8a83-9eed481ea04c",
   "metadata": {},
   "source": [
    "## ->Box plot to detect outliers"
   ]
  },
  {
   "cell_type": "code",
   "execution_count": 11,
   "id": "0195926b-693d-416b-9ab9-d3b714bbdda8",
   "metadata": {},
   "outputs": [
    {
     "data": {
      "text/plain": [
       "<Axes: >"
      ]
     },
     "execution_count": 11,
     "metadata": {},
     "output_type": "execute_result"
    },
    {
     "data": {
      "image/png": "[encoded data removed]",
      "text/plain": [
       "<Figure size 640x480 with 1 Axes>"
      ]
     },
     "metadata": {},
     "output_type": "display_data"
    }
   ],
   "source": [
    "df['age'].plot(kind='box')"
   ]
  },
  {
   "cell_type": "markdown",
   "id": "d75b0c27-6144-411b-8f34-b8413de415fe",
   "metadata": {},
   "source": [
    "## ->Handle the outerliers using IQR method"
   ]
  },
  {
   "cell_type": "code",
   "execution_count": 12,
   "id": "fc12e552-a5fd-4a43-9330-8aea7f121c48",
   "metadata": {},
   "outputs": [],
   "source": [
    "# finding the 1st quartile\n",
    "q1 = df[\"age\"].quantile(0.25)\n",
    "# finding the 3rd quartile\n",
    "q3 = df['age'].quantile(0.75)\n",
    "# finding the iqr region\n",
    "iqr = q3-q1\n",
    "# finding upper and lower whiskers\n",
    "upper_bound = q3+(1.5*iqr)\n",
    "lower_bound = q1-(1.5*iqr)"
   ]
  },
  {
   "cell_type": "code",
   "execution_count": 13,
   "id": "60426375-dc82-49a7-9c25-27b865cb4e32",
   "metadata": {},
   "outputs": [
    {
     "name": "stdout",
     "output_type": "stream",
     "text": [
      "The following are the outliers in the boxplot of age:\n",
      " 7       2.00\n",
      "11     58.00\n",
      "15     55.00\n",
      "16      2.00\n",
      "33     66.00\n",
      "       ...  \n",
      "827     1.00\n",
      "829    62.00\n",
      "831     0.83\n",
      "851    74.00\n",
      "879    56.00\n",
      "Name: age, Length: 66, dtype: float64\n"
     ]
    }
   ],
   "source": [
    "age_arr = df[\"age\"]\n",
    "outliers = age_arr[(age_arr <= lower_bound) | (age_arr >= upper_bound)]\n",
    "print('The following are the outliers in the boxplot of age:\\n',outliers)"
   ]
  },
  {
   "cell_type": "markdown",
   "id": "eef98122-98ad-4e21-9666-05802c15d7d0",
   "metadata": {},
   "source": [
    "## ->Histogram plot to detect outliers"
   ]
  },
  {
   "cell_type": "code",
   "execution_count": 14,
   "id": "ab333b7c-c60b-4e23-95b4-4250c47738b1",
   "metadata": {},
   "outputs": [
    {
     "data": {
      "text/plain": [
       "<Axes: ylabel='Frequency'>"
      ]
     },
     "execution_count": 14,
     "metadata": {},
     "output_type": "execute_result"
    },
    {
     "data": {
      "image/png": "[encoded data removed]",
      "text/plain": [
       "<Figure size 640x480 with 1 Axes>"
      ]
     },
     "metadata": {},
     "output_type": "display_data"
    }
   ],
   "source": [
    "df['fare'].plot(kind='hist')"
   ]
  },
  {
   "cell_type": "markdown",
   "id": "0585218e-348a-4b08-89dc-397b6873a124",
   "metadata": {},
   "source": [
    "## ->Remove data objects with outliers"
   ]
  },
  {
   "cell_type": "code",
   "execution_count": 15,
   "id": "de3c53ab-70d1-457b-9a89-334f3866c5e0",
   "metadata": {},
   "outputs": [
    {
     "name": "stdout",
     "output_type": "stream",
     "text": [
      "<class 'pandas.core.frame.DataFrame'>\n",
      "Index: 825 entries, 0 to 890\n",
      "Data columns (total 15 columns):\n",
      " #   Column       Non-Null Count  Dtype  \n",
      "---  ------       --------------  -----  \n",
      " 0   survived     825 non-null    int64  \n",
      " 1   pclass       825 non-null    int64  \n",
      " 2   sex          825 non-null    object \n",
      " 3   age          825 non-null    float64\n",
      " 4   sibsp        825 non-null    int64  \n",
      " 5   parch        825 non-null    int64  \n",
      " 6   fare         825 non-null    float64\n",
      " 7   embarked     824 non-null    object \n",
      " 8   class        825 non-null    object \n",
      " 9   who          825 non-null    object \n",
      " 10  adult_male   825 non-null    bool   \n",
      " 11  deck         825 non-null    object \n",
      " 12  embark_town  824 non-null    object \n",
      " 13  alive        825 non-null    object \n",
      " 14  alone        825 non-null    bool   \n",
      "dtypes: bool(2), float64(2), int64(4), object(7)\n",
      "memory usage: 91.8+ KB\n"
     ]
    }
   ],
   "source": [
    "upperIndex = df[df['age']>upper_bound].index\n",
    "df.drop(upperIndex,inplace=True)\n",
    "lowerIndex = df[df['age']<lower_bound].index\n",
    "df.drop(lowerIndex,inplace=True)\n",
    "df.info()"
   ]
  },
  {
   "cell_type": "markdown",
   "id": "e7cff955-a2e4-4251-94ff-a19336550cc8",
   "metadata": {},
   "source": [
    "## ->Replacing outliers with upper and lower cap"
   ]
  },
  {
   "cell_type": "code",
   "execution_count": 16,
   "id": "478d4c5c-574f-45d4-af9d-967d9bf1c114",
   "metadata": {},
   "outputs": [],
   "source": [
    "fare_arr = df[\"fare\"]\n",
    "lower_cap = np.percentile(fare_arr,1)\n",
    "upper_cap = np.percentile(fare_arr,99)"
   ]
  },
  {
   "cell_type": "code",
   "execution_count": 17,
   "id": "b3e05d63-964d-4158-bdb8-6927cc7cb2fb",
   "metadata": {},
   "outputs": [
    {
     "data": {
      "text/plain": [
       "<Axes: ylabel='Frequency'>"
      ]
     },
     "execution_count": 17,
     "metadata": {},
     "output_type": "execute_result"
    },
    {
     "data": {
      "image/png": "[encoded data removed]",
      "text/plain": [
       "<Figure size 640x480 with 1 Axes>"
      ]
     },
     "metadata": {},
     "output_type": "display_data"
    }
   ],
   "source": [
    "for i in df['fare']:\n",
    "    if i<lower_bound :\n",
    "        df['fare'] = df['fare'].replace(i,lower_cap)\n",
    "    elif i>upper_bound :\n",
    "        df['fare'] = df['fare'].replace(i,upper_cap)\n",
    "df['fare'].plot(kind='hist')"
   ]
  },
  {
   "cell_type": "markdown",
   "id": "7e927850-1c96-4563-81f2-94a8b48c933f",
   "metadata": {},
   "source": [
    "## ->Replacing outliers with Mean"
   ]
  },
  {
   "cell_type": "code",
   "execution_count": 18,
   "id": "e3613880-ffa5-4e40-a87e-3e1d5f60dcef",
   "metadata": {},
   "outputs": [
    {
     "name": "stdout",
     "output_type": "stream",
     "text": [
      "mean: 28.879689483065953\n"
     ]
    }
   ],
   "source": [
    "m = np.mean(df['age'])\n",
    "print('mean:',m)\n",
    "for i in df['age']:\n",
    "    if i<lower_bound or i>upper_bound :\n",
    "       df['age'] = df['age'].replace(i,m)"
   ]
  },
  {
   "cell_type": "markdown",
   "id": "048dc6b4-ad23-410c-ad18-31fc52c45c03",
   "metadata": {},
   "source": [
    "## ->Replacing outliers with median"
   ]
  },
  {
   "cell_type": "code",
   "execution_count": 19,
   "id": "e1a6124f-5b41-42f4-9887-f99b139677f0",
   "metadata": {},
   "outputs": [
    {
     "name": "stdout",
     "output_type": "stream",
     "text": [
      "28.879689483065953\n"
     ]
    }
   ],
   "source": [
    "m1 = df['age'].median()\n",
    "print(m)\n",
    "for i in df['age']:\n",
    "    if i<lower_bound or i>upper_bound :\n",
    "        df['age'] = df['age'].replace(i,m1)"
   ]
  },
  {
   "cell_type": "markdown",
   "id": "039a5b8a-54b8-4587-a773-66a3e1fa1dc8",
   "metadata": {},
   "source": [
    "## c)Consider any relevant dataset and perform data transformation operations"
   ]
  },
  {
   "cell_type": "code",
   "execution_count": 5,
   "id": "2698e1c5-8331-41a5-ba20-ac617ebae485",
   "metadata": {},
   "outputs": [],
   "source": [
    "import pandas as pd\n",
    "import numpy as np\n",
    "import matplotlib.pyplot as plt"
   ]
  },
  {
   "cell_type": "markdown",
   "id": "47e7ee0a-5609-41ca-b5d6-619261222835",
   "metadata": {},
   "source": [
    "### 1.Given the event dataset which contains Day,Event,Cost columns"
   ]
  },
  {
   "cell_type": "code",
   "execution_count": 6,
   "id": "ecc6edf2-3055-4ca9-a751-f1b7743e7d24",
   "metadata": {},
   "outputs": [
    {
     "data": {
      "text/html": [
       "<div>\n",
       "<style scoped>\n",
       "    .dataframe tbody tr th:only-of-type {\n",
       "        vertical-align: middle;\n",
       "    }\n",
       "\n",
       "    .dataframe tbody tr th {\n",
       "        vertical-align: top;\n",
       "    }\n",
       "\n",
       "    .dataframe thead th {\n",
       "        text-align: right;\n",
       "    }\n",
       "</style>\n",
       "<table border=\"1\" class=\"dataframe\">\n",
       "  <thead>\n",
       "    <tr style=\"text-align: right;\">\n",
       "      <th></th>\n",
       "      <th>date</th>\n",
       "      <th>event</th>\n",
       "      <th>cost</th>\n",
       "    </tr>\n",
       "  </thead>\n",
       "  <tbody>\n",
       "    <tr>\n",
       "      <th>0</th>\n",
       "      <td>12-09-2010</td>\n",
       "      <td>game</td>\n",
       "      <td>10000</td>\n",
       "    </tr>\n",
       "    <tr>\n",
       "      <th>1</th>\n",
       "      <td>13-08-2012</td>\n",
       "      <td>dance</td>\n",
       "      <td>12000</td>\n",
       "    </tr>\n",
       "    <tr>\n",
       "      <th>2</th>\n",
       "      <td>14-03-2003</td>\n",
       "      <td>songs</td>\n",
       "      <td>3000</td>\n",
       "    </tr>\n",
       "    <tr>\n",
       "      <th>3</th>\n",
       "      <td>15-07-2010</td>\n",
       "      <td>drawing</td>\n",
       "      <td>10000</td>\n",
       "    </tr>\n",
       "    <tr>\n",
       "      <th>4</th>\n",
       "      <td>16-02-2006</td>\n",
       "      <td>songs</td>\n",
       "      <td>6000</td>\n",
       "    </tr>\n",
       "  </tbody>\n",
       "</table>\n",
       "</div>"
      ],
      "text/plain": [
       "         date    event   cost\n",
       "0  12-09-2010     game  10000\n",
       "1  13-08-2012    dance  12000\n",
       "2  14-03-2003    songs   3000\n",
       "3  15-07-2010  drawing  10000\n",
       "4  16-02-2006    songs   6000"
      ]
     },
     "execution_count": 6,
     "metadata": {},
     "output_type": "execute_result"
    }
   ],
   "source": [
    "df=pd.read_csv('C:/Users/Guru Kiran/All CSV files/cmp.csv')\n",
    "df.head()"
   ]
  },
  {
   "cell_type": "markdown",
   "id": "cc03585f-b532-40e0-9961-869998e2aff8",
   "metadata": {},
   "source": [
    "### 1.Given the event dataset which contains Day,Event,Cost columns"
   ]
  },
  {
   "cell_type": "code",
   "execution_count": 7,
   "id": "4865b16b-b496-4851-a376-7c996994f275",
   "metadata": {},
   "outputs": [
    {
     "name": "stdout",
     "output_type": "stream",
     "text": [
      "         date    event   cost  discount\n",
      "0  12-09-2010     game  10000    1000.0\n",
      "1  13-08-2012    dance  12000    1200.0\n",
      "2  14-03-2003    songs   3000     300.0\n",
      "3  15-07-2010  drawing  10000    1000.0\n",
      "4  16-02-2006    songs   6000     600.0\n",
      "5  17-01-2007    dance   7000     700.0\n",
      "6  18-06-2006  drawing   6000     600.0\n",
      "7  19-11-2002     game   2111     211.1\n",
      "8  20-05-2015    dance  15000    1500.0\n",
      "9  21-12-2009     game   9111     911.1\n"
     ]
    }
   ],
   "source": [
    "#Discount\n",
    "df['discount']=df.apply(lambda x: (x.cost*0.1),axis=1)\n",
    "print(df)"
   ]
  },
  {
   "cell_type": "code",
   "execution_count": 8,
   "id": "f2df3c2a-07e2-4bfc-abc6-076796f41457",
   "metadata": {},
   "outputs": [
    {
     "name": "stdout",
     "output_type": "stream",
     "text": [
      "         date    event   cost  discount  discount_prize\n",
      "0  12-09-2010     game  10000    1000.0          9000.0\n",
      "1  13-08-2012    dance  12000    1200.0         10800.0\n",
      "2  14-03-2003    songs   3000     300.0          2700.0\n",
      "3  15-07-2010  drawing  10000    1000.0          9000.0\n",
      "4  16-02-2006    songs   6000     600.0          5400.0\n",
      "5  17-01-2007    dance   7000     700.0          6300.0\n",
      "6  18-06-2006  drawing   6000     600.0          5400.0\n",
      "7  19-11-2002     game   2111     211.1          1899.9\n",
      "8  20-05-2015    dance  15000    1500.0         13500.0\n",
      "9  21-12-2009     game   9111     911.1          8199.9\n"
     ]
    }
   ],
   "source": [
    "#discount_prize\n",
    "df['discount_prize']=df.apply(lambda x: x.cost-(x.cost*0.1),axis=1)\n",
    "print(df)"
   ]
  },
  {
   "cell_type": "markdown",
   "id": "e6de1088-dbee-4ee7-9dda-4b03b87e97fe",
   "metadata": {},
   "source": [
    "### -> Add two more events data-objects to the dataset"
   ]
  },
  {
   "cell_type": "code",
   "execution_count": 9,
   "id": "eff18c7e-fc6e-486b-9c3b-d317697e1488",
   "metadata": {},
   "outputs": [
    {
     "name": "stdout",
     "output_type": "stream",
     "text": [
      "          date    event   cost  discount  discount_prize\n",
      "0   12-09-2010     game  10000    1000.0          9000.0\n",
      "1   13-08-2012    dance  12000    1200.0         10800.0\n",
      "2   14-03-2003    songs   3000     300.0          2700.0\n",
      "3   15-07-2010  drawing  10000    1000.0          9000.0\n",
      "4   16-02-2006    songs   6000     600.0          5400.0\n",
      "5   17-01-2007    dance   7000     700.0          6300.0\n",
      "6   18-06-2006  drawing   6000     600.0          5400.0\n",
      "7   19-11-2002     game   2111     211.1          1899.9\n",
      "8   20-05-2015    dance  15000    1500.0         13500.0\n",
      "9   21-12-2009     game   9111     911.1          8199.9\n",
      "10  12-01-2007    songs   6000     600.0          5400.0\n"
     ]
    }
   ],
   "source": [
    "df.loc[len(df.index)]=['12-01-2007','songs',6000,600.0,5400.0]\n",
    "print(df)"
   ]
  },
  {
   "cell_type": "code",
   "execution_count": 10,
   "id": "d32b2650-9166-444d-b1ca-797abc2162bf",
   "metadata": {},
   "outputs": [
    {
     "name": "stdout",
     "output_type": "stream",
     "text": [
      "         date    event   cost\n",
      "0  11-05-2006     game  10000\n",
      "1  12-04-2007    dance  12000\n",
      "2  13-03-2008    songs   3000\n",
      "3  14-12-2012  drawing  10000\n",
      "4  15-05-2020    songs   6000\n",
      "5  16-08-2015    dance   7000\n",
      "6  17-11-2004  drawing   6000\n",
      "7  18-05-2019     game   2111\n",
      "8  19-01-2006    dance  15000\n",
      "9  20-09-2016     game   9111\n"
     ]
    }
   ],
   "source": [
    "df1=pd.read_csv('C:/Users/Guru Kiran/All CSV files/cmp1.csv')\n",
    "print(df1)"
   ]
  },
  {
   "cell_type": "code",
   "execution_count": 11,
   "id": "c9b26410-93a3-4515-9de8-bd3c583d3db9",
   "metadata": {},
   "outputs": [
    {
     "name": "stdout",
     "output_type": "stream",
     "text": [
      "         date    event   cost  discount\n",
      "0  11-05-2006     game  10000    1000.0\n",
      "1  12-04-2007    dance  12000    1200.0\n",
      "2  13-03-2008    songs   3000     300.0\n",
      "3  14-12-2012  drawing  10000    1000.0\n",
      "4  15-05-2020    songs   6000     600.0\n",
      "5  16-08-2015    dance   7000     700.0\n",
      "6  17-11-2004  drawing   6000     600.0\n",
      "7  18-05-2019     game   2111     211.1\n",
      "8  19-01-2006    dance  15000    1500.0\n",
      "9  20-09-2016     game   9111     911.1\n"
     ]
    }
   ],
   "source": [
    "df1['discount']=df1.apply(lambda x: (x.cost*0.1),axis=1)\n",
    "print(df1)"
   ]
  },
  {
   "cell_type": "code",
   "execution_count": 12,
   "id": "52586ea5-e0bf-4224-bc83-712d7fd05ee7",
   "metadata": {},
   "outputs": [
    {
     "name": "stdout",
     "output_type": "stream",
     "text": [
      "          date    event   cost  discount  discount_prize\n",
      "0   12-09-2010     game  10000    1000.0          9000.0\n",
      "1   13-08-2012    dance  12000    1200.0         10800.0\n",
      "2   14-03-2003    songs   3000     300.0          2700.0\n",
      "3   15-07-2010  drawing  10000    1000.0          9000.0\n",
      "4   16-02-2006    songs   6000     600.0          5400.0\n",
      "5   17-01-2007    dance   7000     700.0          6300.0\n",
      "6   18-06-2006  drawing   6000     600.0          5400.0\n",
      "7   19-11-2002     game   2111     211.1          1899.9\n",
      "8   20-05-2015    dance  15000    1500.0         13500.0\n",
      "9   21-12-2009     game   9111     911.1          8199.9\n",
      "10  12-01-2007    songs   6000     600.0          5400.0\n"
     ]
    }
   ],
   "source": [
    "df['discount_prize']=df.apply(lambda x: x.cost-(x.cost*0.1),axis=1)\n",
    "print(df)"
   ]
  },
  {
   "cell_type": "markdown",
   "id": "b4543563-ef35-416b-ab05-b45ae76d1a05",
   "metadata": {},
   "source": [
    "## ->Consider the same dataset from another csv file merge the two csv file and save it to 3rd csv file"
   ]
  },
  {
   "cell_type": "code",
   "execution_count": 13,
   "id": "aaf7cc31-401c-478e-b0dd-82ce3f296667",
   "metadata": {},
   "outputs": [
    {
     "data": {
      "text/html": [
       "<div>\n",
       "<style scoped>\n",
       "    .dataframe tbody tr th:only-of-type {\n",
       "        vertical-align: middle;\n",
       "    }\n",
       "\n",
       "    .dataframe tbody tr th {\n",
       "        vertical-align: top;\n",
       "    }\n",
       "\n",
       "    .dataframe thead th {\n",
       "        text-align: right;\n",
       "    }\n",
       "</style>\n",
       "<table border=\"1\" class=\"dataframe\">\n",
       "  <thead>\n",
       "    <tr style=\"text-align: right;\">\n",
       "      <th></th>\n",
       "      <th>date</th>\n",
       "      <th>event</th>\n",
       "      <th>cost</th>\n",
       "      <th>discount</th>\n",
       "    </tr>\n",
       "  </thead>\n",
       "  <tbody>\n",
       "    <tr>\n",
       "      <th>0</th>\n",
       "      <td>12-09-2010</td>\n",
       "      <td>game</td>\n",
       "      <td>10000</td>\n",
       "      <td>NaN</td>\n",
       "    </tr>\n",
       "    <tr>\n",
       "      <th>1</th>\n",
       "      <td>13-08-2012</td>\n",
       "      <td>dance</td>\n",
       "      <td>12000</td>\n",
       "      <td>NaN</td>\n",
       "    </tr>\n",
       "    <tr>\n",
       "      <th>2</th>\n",
       "      <td>14-03-2003</td>\n",
       "      <td>songs</td>\n",
       "      <td>3000</td>\n",
       "      <td>NaN</td>\n",
       "    </tr>\n",
       "    <tr>\n",
       "      <th>3</th>\n",
       "      <td>15-07-2010</td>\n",
       "      <td>drawing</td>\n",
       "      <td>10000</td>\n",
       "      <td>NaN</td>\n",
       "    </tr>\n",
       "    <tr>\n",
       "      <th>4</th>\n",
       "      <td>16-02-2006</td>\n",
       "      <td>songs</td>\n",
       "      <td>6000</td>\n",
       "      <td>NaN</td>\n",
       "    </tr>\n",
       "    <tr>\n",
       "      <th>5</th>\n",
       "      <td>17-01-2007</td>\n",
       "      <td>dance</td>\n",
       "      <td>7000</td>\n",
       "      <td>NaN</td>\n",
       "    </tr>\n",
       "    <tr>\n",
       "      <th>6</th>\n",
       "      <td>18-06-2006</td>\n",
       "      <td>drawing</td>\n",
       "      <td>6000</td>\n",
       "      <td>NaN</td>\n",
       "    </tr>\n",
       "    <tr>\n",
       "      <th>7</th>\n",
       "      <td>19-11-2002</td>\n",
       "      <td>game</td>\n",
       "      <td>2111</td>\n",
       "      <td>NaN</td>\n",
       "    </tr>\n",
       "    <tr>\n",
       "      <th>8</th>\n",
       "      <td>20-05-2015</td>\n",
       "      <td>dance</td>\n",
       "      <td>15000</td>\n",
       "      <td>NaN</td>\n",
       "    </tr>\n",
       "    <tr>\n",
       "      <th>9</th>\n",
       "      <td>21-12-2009</td>\n",
       "      <td>game</td>\n",
       "      <td>9111</td>\n",
       "      <td>NaN</td>\n",
       "    </tr>\n",
       "    <tr>\n",
       "      <th>10</th>\n",
       "      <td>11-05-2006</td>\n",
       "      <td>game</td>\n",
       "      <td>10000</td>\n",
       "      <td>1000.0</td>\n",
       "    </tr>\n",
       "    <tr>\n",
       "      <th>11</th>\n",
       "      <td>12-04-2007</td>\n",
       "      <td>dance</td>\n",
       "      <td>12000</td>\n",
       "      <td>1200.0</td>\n",
       "    </tr>\n",
       "    <tr>\n",
       "      <th>12</th>\n",
       "      <td>13-03-2008</td>\n",
       "      <td>songs</td>\n",
       "      <td>3000</td>\n",
       "      <td>300.0</td>\n",
       "    </tr>\n",
       "    <tr>\n",
       "      <th>13</th>\n",
       "      <td>14-12-2012</td>\n",
       "      <td>drawing</td>\n",
       "      <td>10000</td>\n",
       "      <td>1000.0</td>\n",
       "    </tr>\n",
       "    <tr>\n",
       "      <th>14</th>\n",
       "      <td>15-05-2020</td>\n",
       "      <td>songs</td>\n",
       "      <td>6000</td>\n",
       "      <td>600.0</td>\n",
       "    </tr>\n",
       "    <tr>\n",
       "      <th>15</th>\n",
       "      <td>16-08-2015</td>\n",
       "      <td>dance</td>\n",
       "      <td>7000</td>\n",
       "      <td>700.0</td>\n",
       "    </tr>\n",
       "    <tr>\n",
       "      <th>16</th>\n",
       "      <td>17-11-2004</td>\n",
       "      <td>drawing</td>\n",
       "      <td>6000</td>\n",
       "      <td>600.0</td>\n",
       "    </tr>\n",
       "    <tr>\n",
       "      <th>17</th>\n",
       "      <td>18-05-2019</td>\n",
       "      <td>game</td>\n",
       "      <td>2111</td>\n",
       "      <td>211.1</td>\n",
       "    </tr>\n",
       "    <tr>\n",
       "      <th>18</th>\n",
       "      <td>19-01-2006</td>\n",
       "      <td>dance</td>\n",
       "      <td>15000</td>\n",
       "      <td>1500.0</td>\n",
       "    </tr>\n",
       "    <tr>\n",
       "      <th>19</th>\n",
       "      <td>20-09-2016</td>\n",
       "      <td>game</td>\n",
       "      <td>9111</td>\n",
       "      <td>911.1</td>\n",
       "    </tr>\n",
       "  </tbody>\n",
       "</table>\n",
       "</div>"
      ],
      "text/plain": [
       "          date    event   cost  discount\n",
       "0   12-09-2010     game  10000       NaN\n",
       "1   13-08-2012    dance  12000       NaN\n",
       "2   14-03-2003    songs   3000       NaN\n",
       "3   15-07-2010  drawing  10000       NaN\n",
       "4   16-02-2006    songs   6000       NaN\n",
       "5   17-01-2007    dance   7000       NaN\n",
       "6   18-06-2006  drawing   6000       NaN\n",
       "7   19-11-2002     game   2111       NaN\n",
       "8   20-05-2015    dance  15000       NaN\n",
       "9   21-12-2009     game   9111       NaN\n",
       "10  11-05-2006     game  10000    1000.0\n",
       "11  12-04-2007    dance  12000    1200.0\n",
       "12  13-03-2008    songs   3000     300.0\n",
       "13  14-12-2012  drawing  10000    1000.0\n",
       "14  15-05-2020    songs   6000     600.0\n",
       "15  16-08-2015    dance   7000     700.0\n",
       "16  17-11-2004  drawing   6000     600.0\n",
       "17  18-05-2019     game   2111     211.1\n",
       "18  19-01-2006    dance  15000    1500.0\n",
       "19  20-09-2016     game   9111     911.1"
      ]
     },
     "execution_count": 13,
     "metadata": {},
     "output_type": "execute_result"
    }
   ],
   "source": [
    "df=pd.read_csv('C:/Users/Guru Kiran/All CSV files/cmp.csv')\n",
    "df3=pd.concat([df,df1],ignore_index=True)\n",
    "df3"
   ]
  },
  {
   "cell_type": "markdown",
   "id": "e48dfb18-9685-4f1d-ab11-5959093bd01a",
   "metadata": {},
   "source": [
    "## 2.Read two csv files given below and perform the following"
   ]
  },
  {
   "cell_type": "code",
   "execution_count": 14,
   "id": "67d86ed5-c148-4409-b6be-c096a2bb8321",
   "metadata": {},
   "outputs": [
    {
     "data": {
      "text/html": [
       "<div>\n",
       "<style scoped>\n",
       "    .dataframe tbody tr th:only-of-type {\n",
       "        vertical-align: middle;\n",
       "    }\n",
       "\n",
       "    .dataframe tbody tr th {\n",
       "        vertical-align: top;\n",
       "    }\n",
       "\n",
       "    .dataframe thead th {\n",
       "        text-align: right;\n",
       "    }\n",
       "</style>\n",
       "<table border=\"1\" class=\"dataframe\">\n",
       "  <thead>\n",
       "    <tr style=\"text-align: right;\">\n",
       "      <th></th>\n",
       "      <th>sid</th>\n",
       "      <th>maths</th>\n",
       "      <th>science</th>\n",
       "    </tr>\n",
       "  </thead>\n",
       "  <tbody>\n",
       "    <tr>\n",
       "      <th>0</th>\n",
       "      <td>1</td>\n",
       "      <td>52</td>\n",
       "      <td>52</td>\n",
       "    </tr>\n",
       "    <tr>\n",
       "      <th>1</th>\n",
       "      <td>2</td>\n",
       "      <td>65</td>\n",
       "      <td>62</td>\n",
       "    </tr>\n",
       "    <tr>\n",
       "      <th>2</th>\n",
       "      <td>3</td>\n",
       "      <td>64</td>\n",
       "      <td>89</td>\n",
       "    </tr>\n",
       "    <tr>\n",
       "      <th>3</th>\n",
       "      <td>4</td>\n",
       "      <td>98</td>\n",
       "      <td>97</td>\n",
       "    </tr>\n",
       "    <tr>\n",
       "      <th>4</th>\n",
       "      <td>5</td>\n",
       "      <td>62</td>\n",
       "      <td>85</td>\n",
       "    </tr>\n",
       "  </tbody>\n",
       "</table>\n",
       "</div>"
      ],
      "text/plain": [
       "   sid  maths  science\n",
       "0    1     52       52\n",
       "1    2     65       62\n",
       "2    3     64       89\n",
       "3    4     98       97\n",
       "4    5     62       85"
      ]
     },
     "execution_count": 14,
     "metadata": {},
     "output_type": "execute_result"
    }
   ],
   "source": [
    "import pandas as ps\n",
    "df4=pd.read_csv('C:/Users/Guru Kiran/All CSV files/s1.csv')\n",
    "df4\n"
   ]
  },
  {
   "cell_type": "code",
   "execution_count": 15,
   "id": "04f9b752-e69a-44a4-bcbe-c50cf2161622",
   "metadata": {},
   "outputs": [
    {
     "data": {
      "text/html": [
       "<div>\n",
       "<style scoped>\n",
       "    .dataframe tbody tr th:only-of-type {\n",
       "        vertical-align: middle;\n",
       "    }\n",
       "\n",
       "    .dataframe tbody tr th {\n",
       "        vertical-align: top;\n",
       "    }\n",
       "\n",
       "    .dataframe thead th {\n",
       "        text-align: right;\n",
       "    }\n",
       "</style>\n",
       "<table border=\"1\" class=\"dataframe\">\n",
       "  <thead>\n",
       "    <tr style=\"text-align: right;\">\n",
       "      <th></th>\n",
       "      <th>sid</th>\n",
       "      <th>maths</th>\n",
       "      <th>science</th>\n",
       "    </tr>\n",
       "  </thead>\n",
       "  <tbody>\n",
       "    <tr>\n",
       "      <th>0</th>\n",
       "      <td>0</td>\n",
       "      <td>52</td>\n",
       "      <td>52</td>\n",
       "    </tr>\n",
       "    <tr>\n",
       "      <th>1</th>\n",
       "      <td>1</td>\n",
       "      <td>65</td>\n",
       "      <td>62</td>\n",
       "    </tr>\n",
       "    <tr>\n",
       "      <th>2</th>\n",
       "      <td>2</td>\n",
       "      <td>64</td>\n",
       "      <td>89</td>\n",
       "    </tr>\n",
       "    <tr>\n",
       "      <th>3</th>\n",
       "      <td>3</td>\n",
       "      <td>98</td>\n",
       "      <td>97</td>\n",
       "    </tr>\n",
       "    <tr>\n",
       "      <th>4</th>\n",
       "      <td>4</td>\n",
       "      <td>62</td>\n",
       "      <td>85</td>\n",
       "    </tr>\n",
       "  </tbody>\n",
       "</table>\n",
       "</div>"
      ],
      "text/plain": [
       "   sid  maths  science\n",
       "0    0     52       52\n",
       "1    1     65       62\n",
       "2    2     64       89\n",
       "3    3     98       97\n",
       "4    4     62       85"
      ]
     },
     "execution_count": 15,
     "metadata": {},
     "output_type": "execute_result"
    }
   ],
   "source": [
    "df5=pd.read_csv('C:/Users/Guru Kiran/All CSV files/s2.csv')\n",
    "df5"
   ]
  },
  {
   "cell_type": "markdown",
   "id": "83997108-6d7d-4c06-bc75-2dcf816efc5b",
   "metadata": {},
   "source": [
    "### ->Add a new attribute called total by summing maths and science"
   ]
  },
  {
   "cell_type": "code",
   "execution_count": 16,
   "id": "0a9b25dd-7ef6-4c0a-8e8d-263006640a5d",
   "metadata": {},
   "outputs": [
    {
     "data": {
      "text/html": [
       "<div>\n",
       "<style scoped>\n",
       "    .dataframe tbody tr th:only-of-type {\n",
       "        vertical-align: middle;\n",
       "    }\n",
       "\n",
       "    .dataframe tbody tr th {\n",
       "        vertical-align: top;\n",
       "    }\n",
       "\n",
       "    .dataframe thead th {\n",
       "        text-align: right;\n",
       "    }\n",
       "</style>\n",
       "<table border=\"1\" class=\"dataframe\">\n",
       "  <thead>\n",
       "    <tr style=\"text-align: right;\">\n",
       "      <th></th>\n",
       "      <th>sid</th>\n",
       "      <th>maths</th>\n",
       "      <th>science</th>\n",
       "      <th>total</th>\n",
       "    </tr>\n",
       "  </thead>\n",
       "  <tbody>\n",
       "    <tr>\n",
       "      <th>0</th>\n",
       "      <td>0</td>\n",
       "      <td>52</td>\n",
       "      <td>52</td>\n",
       "      <td>104</td>\n",
       "    </tr>\n",
       "    <tr>\n",
       "      <th>1</th>\n",
       "      <td>1</td>\n",
       "      <td>65</td>\n",
       "      <td>62</td>\n",
       "      <td>127</td>\n",
       "    </tr>\n",
       "    <tr>\n",
       "      <th>2</th>\n",
       "      <td>2</td>\n",
       "      <td>64</td>\n",
       "      <td>89</td>\n",
       "      <td>153</td>\n",
       "    </tr>\n",
       "    <tr>\n",
       "      <th>3</th>\n",
       "      <td>3</td>\n",
       "      <td>98</td>\n",
       "      <td>97</td>\n",
       "      <td>195</td>\n",
       "    </tr>\n",
       "    <tr>\n",
       "      <th>4</th>\n",
       "      <td>4</td>\n",
       "      <td>62</td>\n",
       "      <td>85</td>\n",
       "      <td>147</td>\n",
       "    </tr>\n",
       "  </tbody>\n",
       "</table>\n",
       "</div>"
      ],
      "text/plain": [
       "   sid  maths  science  total\n",
       "0    0     52       52    104\n",
       "1    1     65       62    127\n",
       "2    2     64       89    153\n",
       "3    3     98       97    195\n",
       "4    4     62       85    147"
      ]
     },
     "execution_count": 16,
     "metadata": {},
     "output_type": "execute_result"
    }
   ],
   "source": [
    "df5['total']=df5[['maths','science']].sum(axis=1)\n",
    "df5"
   ]
  },
  {
   "cell_type": "markdown",
   "id": "f20c8d74-6aee-4786-a8c9-f21d4b7b5466",
   "metadata": {},
   "source": [
    "### ->Add a new object to the final dataframe"
   ]
  },
  {
   "cell_type": "code",
   "execution_count": 17,
   "id": "7c62cb52-bd6e-43de-bc4b-5de1d44a280f",
   "metadata": {},
   "outputs": [
    {
     "data": {
      "text/html": [
       "<div>\n",
       "<style scoped>\n",
       "    .dataframe tbody tr th:only-of-type {\n",
       "        vertical-align: middle;\n",
       "    }\n",
       "\n",
       "    .dataframe tbody tr th {\n",
       "        vertical-align: top;\n",
       "    }\n",
       "\n",
       "    .dataframe thead th {\n",
       "        text-align: right;\n",
       "    }\n",
       "</style>\n",
       "<table border=\"1\" class=\"dataframe\">\n",
       "  <thead>\n",
       "    <tr style=\"text-align: right;\">\n",
       "      <th></th>\n",
       "      <th>sid</th>\n",
       "      <th>maths</th>\n",
       "      <th>science</th>\n",
       "      <th>total</th>\n",
       "    </tr>\n",
       "  </thead>\n",
       "  <tbody>\n",
       "    <tr>\n",
       "      <th>0</th>\n",
       "      <td>0</td>\n",
       "      <td>52</td>\n",
       "      <td>52</td>\n",
       "      <td>104</td>\n",
       "    </tr>\n",
       "    <tr>\n",
       "      <th>1</th>\n",
       "      <td>1</td>\n",
       "      <td>65</td>\n",
       "      <td>62</td>\n",
       "      <td>127</td>\n",
       "    </tr>\n",
       "    <tr>\n",
       "      <th>2</th>\n",
       "      <td>2</td>\n",
       "      <td>64</td>\n",
       "      <td>89</td>\n",
       "      <td>153</td>\n",
       "    </tr>\n",
       "    <tr>\n",
       "      <th>3</th>\n",
       "      <td>3</td>\n",
       "      <td>98</td>\n",
       "      <td>97</td>\n",
       "      <td>195</td>\n",
       "    </tr>\n",
       "    <tr>\n",
       "      <th>4</th>\n",
       "      <td>4</td>\n",
       "      <td>62</td>\n",
       "      <td>85</td>\n",
       "      <td>147</td>\n",
       "    </tr>\n",
       "    <tr>\n",
       "      <th>5</th>\n",
       "      <td>6</td>\n",
       "      <td>65</td>\n",
       "      <td>68</td>\n",
       "      <td>133</td>\n",
       "    </tr>\n",
       "  </tbody>\n",
       "</table>\n",
       "</div>"
      ],
      "text/plain": [
       "   sid  maths  science  total\n",
       "0    0     52       52    104\n",
       "1    1     65       62    127\n",
       "2    2     64       89    153\n",
       "3    3     98       97    195\n",
       "4    4     62       85    147\n",
       "5    6     65       68    133"
      ]
     },
     "execution_count": 17,
     "metadata": {},
     "output_type": "execute_result"
    }
   ],
   "source": [
    "df5.loc[len(df5.index)]=[6,65,68,133]\n",
    "df5"
   ]
  },
  {
   "cell_type": "markdown",
   "id": "eef68b25-5372-4365-a642-64fd4732c3ce",
   "metadata": {},
   "source": [
    "### ->Merge the two dataframes on sid"
   ]
  },
  {
   "cell_type": "code",
   "execution_count": 18,
   "id": "38106b35-b917-4de4-946c-b9a874655206",
   "metadata": {},
   "outputs": [
    {
     "data": {
      "text/html": [
       "<div>\n",
       "<style scoped>\n",
       "    .dataframe tbody tr th:only-of-type {\n",
       "        vertical-align: middle;\n",
       "    }\n",
       "\n",
       "    .dataframe tbody tr th {\n",
       "        vertical-align: top;\n",
       "    }\n",
       "\n",
       "    .dataframe thead th {\n",
       "        text-align: right;\n",
       "    }\n",
       "</style>\n",
       "<table border=\"1\" class=\"dataframe\">\n",
       "  <thead>\n",
       "    <tr style=\"text-align: right;\">\n",
       "      <th></th>\n",
       "      <th>sid</th>\n",
       "      <th>maths_x</th>\n",
       "      <th>science_x</th>\n",
       "      <th>maths_y</th>\n",
       "      <th>science_y</th>\n",
       "      <th>total</th>\n",
       "    </tr>\n",
       "  </thead>\n",
       "  <tbody>\n",
       "    <tr>\n",
       "      <th>0</th>\n",
       "      <td>0</td>\n",
       "      <td>NaN</td>\n",
       "      <td>NaN</td>\n",
       "      <td>52.0</td>\n",
       "      <td>52.0</td>\n",
       "      <td>104.0</td>\n",
       "    </tr>\n",
       "    <tr>\n",
       "      <th>1</th>\n",
       "      <td>1</td>\n",
       "      <td>52.0</td>\n",
       "      <td>52.0</td>\n",
       "      <td>65.0</td>\n",
       "      <td>62.0</td>\n",
       "      <td>127.0</td>\n",
       "    </tr>\n",
       "    <tr>\n",
       "      <th>2</th>\n",
       "      <td>2</td>\n",
       "      <td>65.0</td>\n",
       "      <td>62.0</td>\n",
       "      <td>64.0</td>\n",
       "      <td>89.0</td>\n",
       "      <td>153.0</td>\n",
       "    </tr>\n",
       "    <tr>\n",
       "      <th>3</th>\n",
       "      <td>3</td>\n",
       "      <td>64.0</td>\n",
       "      <td>89.0</td>\n",
       "      <td>98.0</td>\n",
       "      <td>97.0</td>\n",
       "      <td>195.0</td>\n",
       "    </tr>\n",
       "    <tr>\n",
       "      <th>4</th>\n",
       "      <td>4</td>\n",
       "      <td>98.0</td>\n",
       "      <td>97.0</td>\n",
       "      <td>62.0</td>\n",
       "      <td>85.0</td>\n",
       "      <td>147.0</td>\n",
       "    </tr>\n",
       "    <tr>\n",
       "      <th>5</th>\n",
       "      <td>5</td>\n",
       "      <td>62.0</td>\n",
       "      <td>85.0</td>\n",
       "      <td>NaN</td>\n",
       "      <td>NaN</td>\n",
       "      <td>NaN</td>\n",
       "    </tr>\n",
       "    <tr>\n",
       "      <th>6</th>\n",
       "      <td>6</td>\n",
       "      <td>NaN</td>\n",
       "      <td>NaN</td>\n",
       "      <td>65.0</td>\n",
       "      <td>68.0</td>\n",
       "      <td>133.0</td>\n",
       "    </tr>\n",
       "  </tbody>\n",
       "</table>\n",
       "</div>"
      ],
      "text/plain": [
       "   sid  maths_x  science_x  maths_y  science_y  total\n",
       "0    0      NaN        NaN     52.0       52.0  104.0\n",
       "1    1     52.0       52.0     65.0       62.0  127.0\n",
       "2    2     65.0       62.0     64.0       89.0  153.0\n",
       "3    3     64.0       89.0     98.0       97.0  195.0\n",
       "4    4     98.0       97.0     62.0       85.0  147.0\n",
       "5    5     62.0       85.0      NaN        NaN    NaN\n",
       "6    6      NaN        NaN     65.0       68.0  133.0"
      ]
     },
     "execution_count": 18,
     "metadata": {},
     "output_type": "execute_result"
    }
   ],
   "source": [
    "df_mearge=pd.merge(df4,df5,on='sid',how='outer')\n",
    "df_mearge"
   ]
  },
  {
   "cell_type": "code",
   "execution_count": 19,
   "id": "464857b2-0419-431a-8247-bad12f4b4142",
   "metadata": {},
   "outputs": [
    {
     "data": {
      "text/html": [
       "<div>\n",
       "<style scoped>\n",
       "    .dataframe tbody tr th:only-of-type {\n",
       "        vertical-align: middle;\n",
       "    }\n",
       "\n",
       "    .dataframe tbody tr th {\n",
       "        vertical-align: top;\n",
       "    }\n",
       "\n",
       "    .dataframe thead th {\n",
       "        text-align: right;\n",
       "    }\n",
       "</style>\n",
       "<table border=\"1\" class=\"dataframe\">\n",
       "  <thead>\n",
       "    <tr style=\"text-align: right;\">\n",
       "      <th></th>\n",
       "      <th>sid</th>\n",
       "      <th>maths_x</th>\n",
       "      <th>science_x</th>\n",
       "      <th>maths_y</th>\n",
       "      <th>science_y</th>\n",
       "      <th>total</th>\n",
       "    </tr>\n",
       "  </thead>\n",
       "  <tbody>\n",
       "    <tr>\n",
       "      <th>1</th>\n",
       "      <td>1</td>\n",
       "      <td>52.0</td>\n",
       "      <td>52.0</td>\n",
       "      <td>65.0</td>\n",
       "      <td>62.0</td>\n",
       "      <td>127.0</td>\n",
       "    </tr>\n",
       "    <tr>\n",
       "      <th>2</th>\n",
       "      <td>2</td>\n",
       "      <td>65.0</td>\n",
       "      <td>62.0</td>\n",
       "      <td>64.0</td>\n",
       "      <td>89.0</td>\n",
       "      <td>153.0</td>\n",
       "    </tr>\n",
       "    <tr>\n",
       "      <th>3</th>\n",
       "      <td>3</td>\n",
       "      <td>64.0</td>\n",
       "      <td>89.0</td>\n",
       "      <td>98.0</td>\n",
       "      <td>97.0</td>\n",
       "      <td>195.0</td>\n",
       "    </tr>\n",
       "    <tr>\n",
       "      <th>4</th>\n",
       "      <td>4</td>\n",
       "      <td>98.0</td>\n",
       "      <td>97.0</td>\n",
       "      <td>62.0</td>\n",
       "      <td>85.0</td>\n",
       "      <td>147.0</td>\n",
       "    </tr>\n",
       "  </tbody>\n",
       "</table>\n",
       "</div>"
      ],
      "text/plain": [
       "   sid  maths_x  science_x  maths_y  science_y  total\n",
       "1    1     52.0       52.0     65.0       62.0  127.0\n",
       "2    2     65.0       62.0     64.0       89.0  153.0\n",
       "3    3     64.0       89.0     98.0       97.0  195.0\n",
       "4    4     98.0       97.0     62.0       85.0  147.0"
      ]
     },
     "execution_count": 19,
     "metadata": {},
     "output_type": "execute_result"
    }
   ],
   "source": [
    "#droping null values\n",
    "df_mearge.dropna(inplace=True,axis=0)\n",
    "df_mearge.head(5)"
   ]
  }
 ],
 "metadata": {
  "kernelspec": {
   "display_name": "Python 3 (ipykernel)",
   "language": "python",
   "name": "python3"
  },
  "language_info": {
   "codemirror_mode": {
    "name": "ipython",
    "version": 3
   },
   "file_extension": ".py",
   "mimetype": "text/x-python",
   "name": "python",
   "nbconvert_exporter": "python",
   "pygments_lexer": "ipython3",
   "version": "3.13.7"
  }
 },
 "nbformat": 4,
 "nbformat_minor": 5
}
