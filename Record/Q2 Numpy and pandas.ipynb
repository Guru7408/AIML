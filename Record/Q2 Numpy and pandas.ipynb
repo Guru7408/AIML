{
 "cells": [
  {
   "cell_type": "markdown",
   "id": "d726f73c-9bd1-4142-824c-19af52e2eba4",
   "metadata": {},
   "source": [
    "## Experiment-2"
   ]
  },
  {
   "cell_type": "markdown",
   "id": "ce1f9578-a03f-40bb-a797-4f8adc8a82d3",
   "metadata": {},
   "source": [
    "# 2 a) Using numpy model perfrom the following operation"
   ]
  },
  {
   "cell_type": "markdown",
   "id": "0bb0d70a-1b9d-4471-907d-4ead15febc4f",
   "metadata": {},
   "source": [
    "### 1) Demonstrate array aggrigation function\n",
    "### 2) Demonstarte the vectorized operations\n",
    "### 3) Demonstarte the map , filter , reduce ,lambda functions with data frame."
   ]
  },
  {
   "cell_type": "markdown",
   "id": "82e0920a-0b37-434f-857f-d1144f21c001",
   "metadata": {},
   "source": [
    "## 2 B)Using pandas model perform the following operation\n",
    "### 1) Aggrigation and grouping\n",
    "### 2) Demonstrate map,filter,reduce & lambda function with dataframe  "
   ]
  },
  {
   "cell_type": "markdown",
   "id": "3e4305ad-23d0-4eb5-8805-30c90685c9b7",
   "metadata": {},
   "source": [
    "## 1) Demonstrate array aggrigation function "
   ]
  },
  {
   "cell_type": "code",
   "execution_count": 1,
   "id": "a5f3596a-350d-4715-98d5-320f87b6fe30",
   "metadata": {},
   "outputs": [],
   "source": [
    "# Sum() :- Use to find the sum of the given array.\n",
    "# max() :- It returns the maximum values among the elements of given array.\n",
    "# min() :- It returns the minimum values among the elements of given array.  \n",
    "# mean() :- It returns the Mean(Averge) of the input array.\n",
    "# std () :- It shows the standard deviation of array.\n",
    "# median () :- It returns the median value of array."
   ]
  },
  {
   "cell_type": "code",
   "execution_count": 2,
   "id": "9d0a1d48-1994-4a3d-a4ea-5a022c22b946",
   "metadata": {},
   "outputs": [],
   "source": [
    "import numpy as np"
   ]
  },
  {
   "cell_type": "code",
   "execution_count": 3,
   "id": "7c180718-5a50-4975-b5ad-a6da0537d2ec",
   "metadata": {},
   "outputs": [
    {
     "name": "stdout",
     "output_type": "stream",
     "text": [
      "set of a array is : [20 26 73 84 34 97 45 72]\n",
      "set of b array is : [45 23 66 63 44 85 23 41]\n"
     ]
    }
   ],
   "source": [
    " a=np.array([20,26,73,84,34,97,45,72])\n",
    " b=np.array([45,23,66,63,44,85,23,41])\n",
    " print(\"set of a array is :\",a)\n",
    " print(\"set of b array is :\",b)"
   ]
  },
  {
   "cell_type": "code",
   "execution_count": 4,
   "id": "d9c5bc8d-713b-41ae-8ff9-70f3bb0e5fa6",
   "metadata": {},
   "outputs": [],
   "source": [
    "#1) Sum () "
   ]
  },
  {
   "cell_type": "code",
   "execution_count": 5,
   "id": "e0fcbef4-de54-42ca-ad07-f1497903b072",
   "metadata": {},
   "outputs": [
    {
     "name": "stdout",
     "output_type": "stream",
     "text": [
      "Sum of a array is : 451\n"
     ]
    }
   ],
   "source": [
    " s=(a.sum())\n",
    " print(\"Sum of a array is :\",s)\n",
    " # OR\n",
    " #print(\"sum of a array is :\",np.sum(a))"
   ]
  },
  {
   "cell_type": "code",
   "execution_count": 6,
   "id": "631f59a0-af6f-4f09-ad4b-c0834c4c8317",
   "metadata": {},
   "outputs": [],
   "source": [
    "##2) Max () "
   ]
  },
  {
   "cell_type": "code",
   "execution_count": 7,
   "id": "b6a57f9b-3e01-4c6b-bd41-da4a57b3545d",
   "metadata": {},
   "outputs": [
    {
     "name": "stdout",
     "output_type": "stream",
     "text": [
      "Maximum values of array is : 85\n"
     ]
    }
   ],
   "source": [
    " m=(b.max())\n",
    " # print(\"Maximum values of array is :\",m)\n",
    " # OR\n",
    " print(\"Maximum values of array is :\",np.max(b))    "
   ]
  },
  {
   "cell_type": "code",
   "execution_count": 8,
   "id": "c7cfa91d-1de2-4376-bb6d-30b213142a00",
   "metadata": {},
   "outputs": [],
   "source": [
    " ##3) Min () "
   ]
  },
  {
   "cell_type": "code",
   "execution_count": 9,
   "id": "4f26c39b-2e03-4bec-8bdd-1f607ec524cf",
   "metadata": {},
   "outputs": [
    {
     "name": "stdout",
     "output_type": "stream",
     "text": [
      "Minimum value of array is : 20\n"
     ]
    }
   ],
   "source": [
    " #mi=(a.min())\n",
    " # print(\"Minimum value of array is :-\",mi)\n",
    " # OR\n",
    " print(\"Minimum value of array is :\",np.min(a))"
   ]
  },
  {
   "cell_type": "code",
   "execution_count": 10,
   "id": "2f30c8f9-bfb2-4460-b967-9a9ea3077b72",
   "metadata": {},
   "outputs": [],
   "source": [
    "##4) Mean () "
   ]
  },
  {
   "cell_type": "code",
   "execution_count": 11,
   "id": "c50942b8-728b-4881-92b1-7c65cc387621",
   "metadata": {},
   "outputs": [
    {
     "name": "stdout",
     "output_type": "stream",
     "text": [
      "Averge value of array is : 56.375\n"
     ]
    }
   ],
   "source": [
    "# me=(a.mean())\n",
    " # print(\"Averge value of array is :\",me)\n",
    " # OR\n",
    "print(\"Averge value of array is :\",np.mean(a))    "
   ]
  },
  {
   "cell_type": "code",
   "execution_count": 12,
   "id": "5e1bd5ee-dfba-4540-800b-9b0a16268d4d",
   "metadata": {},
   "outputs": [],
   "source": [
    "##5) std () "
   ]
  },
  {
   "cell_type": "code",
   "execution_count": 13,
   "id": "da99f5ce-7598-422b-a9ac-afe15fd9a88c",
   "metadata": {},
   "outputs": [
    {
     "name": "stdout",
     "output_type": "stream",
     "text": [
      "Standerd diviation of array is : 20.116846174288852\n"
     ]
    }
   ],
   "source": [
    "# st=(b.std())\n",
    " # print(\"Standerd diviation of array is :\",st)\n",
    " # OR\n",
    "print(\"Standerd diviation of array is :\",np.std(b))  "
   ]
  },
  {
   "cell_type": "code",
   "execution_count": 14,
   "id": "aecce6ab-19ad-4ef9-a855-b75e09d5dd6e",
   "metadata": {},
   "outputs": [],
   "source": [
    "##6) median () "
   ]
  },
  {
   "cell_type": "code",
   "execution_count": 15,
   "id": "35ec7e4d-5e2d-4a7e-b74e-5506de78fbed",
   "metadata": {},
   "outputs": [
    {
     "name": "stdout",
     "output_type": "stream",
     "text": [
      "Median of a array is : 58.5\n"
     ]
    }
   ],
   "source": [
    " # md=(a.std())\n",
    " # print(\"Median of a array is :\",md)\n",
    " # OR\n",
    " print(\"Median of a array is :\",np.median(a))  "
   ]
  },
  {
   "cell_type": "markdown",
   "id": "21d4d4aa-8da1-4f36-ac5d-e304a09336d3",
   "metadata": {},
   "source": [
    "## 2) Demonstarte the vectorized operations"
   ]
  },
  {
   "cell_type": "code",
   "execution_count": 16,
   "id": "5700af07-230a-48bf-8bb9-2363cbcba71c",
   "metadata": {},
   "outputs": [],
   "source": [
    "import numpy as np\n",
    " # creating arrays\n",
    "a1= np.array([10, 20, 30])\n",
    "b1= np.array([1, 2, 3])"
   ]
  },
  {
   "cell_type": "code",
   "execution_count": 17,
   "id": "5457e038-b978-4cb0-bae6-23dd9948e685",
   "metadata": {},
   "outputs": [
    {
     "name": "stdout",
     "output_type": "stream",
     "text": [
      "set of a1 array is : [10 20 30]\n",
      "set of b1 array is : [1 2 3]\n"
     ]
    }
   ],
   "source": [
    " print(\"set of a1 array is :\",a1)\n",
    " print(\"set of b1 array is :\",b1)"
   ]
  },
  {
   "cell_type": "code",
   "execution_count": 18,
   "id": "3e4acaea-233d-457a-876e-a3fa7ea7c47a",
   "metadata": {},
   "outputs": [
    {
     "name": "stdout",
     "output_type": "stream",
     "text": [
      "Addition: [ 65  49 139 147  78 182  68 113]\n",
      "Subtraction: [-25   3   7  21 -10  12  22  31]\n",
      "Multiplication: [ 900  598 4818 5292 1496 8245 1035 2952]\n",
      "Division: [0.44444444 1.13043478 1.10606061 1.33333333 0.77272727 1.14117647\n",
      " 1.95652174 1.75609756]\n"
     ]
    }
   ],
   "source": [
    " # Arithmetic Operations\n",
    " # Addition\n",
    " # Subtraction\n",
    " # Multiplication\n",
    " # Division\n",
    "print(\"Addition:\", a + b)        \n",
    "print(\"Subtraction:\", a - b)      \n",
    "print(\"Multiplication:\", a * b)   \n",
    "print(\"Division:\", a / b)      "
   ]
  },
  {
   "cell_type": "code",
   "execution_count": 19,
   "id": "c3039c43-0859-446c-8b73-b9af1544a030",
   "metadata": {},
   "outputs": [
    {
     "name": "stdout",
     "output_type": "stream",
     "text": [
      "Square root of a: [4.47213595 5.09901951 8.54400375 9.16515139 5.83095189 9.8488578\n",
      " 6.70820393 8.48528137]\n"
     ]
    }
   ],
   "source": [
    " #  Mathematical Functions\n",
    " print(\"Square root of a:\", np.sqrt(a))  "
   ]
  },
  {
   "cell_type": "code",
   "execution_count": 20,
   "id": "98492621-fa74-443c-bafe-95ba097b628e",
   "metadata": {},
   "outputs": [
    {
     "name": "stdout",
     "output_type": "stream",
     "text": [
      "Sum of a: 451\n",
      "Max of b: 85\n",
      "Mean of a: 56.375\n"
     ]
    }
   ],
   "source": [
    "print(\"Sum of a:\", np.sum(a))             \n",
    "print(\"Max of b:\", np.max(b))            \n",
    "print(\"Mean of a:\", np.mean(a)) "
   ]
  },
  {
   "cell_type": "markdown",
   "id": "ba3048d2-67f0-4b03-8e48-e5731519c764",
   "metadata": {},
   "source": [
    "## 3) Demonstarte the map , filter , reduce ,lambda functions with data frame."
   ]
  },
  {
   "cell_type": "code",
   "execution_count": 21,
   "id": "d58a043d-8f9b-4bee-a84b-8f622ebce157",
   "metadata": {},
   "outputs": [
    {
     "data": {
      "text/html": [
       "<div>\n",
       "<style scoped>\n",
       "    .dataframe tbody tr th:only-of-type {\n",
       "        vertical-align: middle;\n",
       "    }\n",
       "\n",
       "    .dataframe tbody tr th {\n",
       "        vertical-align: top;\n",
       "    }\n",
       "\n",
       "    .dataframe thead th {\n",
       "        text-align: right;\n",
       "    }\n",
       "</style>\n",
       "<table border=\"1\" class=\"dataframe\">\n",
       "  <thead>\n",
       "    <tr style=\"text-align: right;\">\n",
       "      <th></th>\n",
       "      <th>Name</th>\n",
       "      <th>Age</th>\n",
       "      <th>Salary</th>\n",
       "    </tr>\n",
       "  </thead>\n",
       "  <tbody>\n",
       "    <tr>\n",
       "      <th>0</th>\n",
       "      <td>Alice</td>\n",
       "      <td>25</td>\n",
       "      <td>50000</td>\n",
       "    </tr>\n",
       "    <tr>\n",
       "      <th>1</th>\n",
       "      <td>Bob</td>\n",
       "      <td>30</td>\n",
       "      <td>60000</td>\n",
       "    </tr>\n",
       "    <tr>\n",
       "      <th>2</th>\n",
       "      <td>Charlie</td>\n",
       "      <td>35</td>\n",
       "      <td>70000</td>\n",
       "    </tr>\n",
       "    <tr>\n",
       "      <th>3</th>\n",
       "      <td>David</td>\n",
       "      <td>40</td>\n",
       "      <td>80000</td>\n",
       "    </tr>\n",
       "  </tbody>\n",
       "</table>\n",
       "</div>"
      ],
      "text/plain": [
       "      Name  Age  Salary\n",
       "0    Alice   25   50000\n",
       "1      Bob   30   60000\n",
       "2  Charlie   35   70000\n",
       "3    David   40   80000"
      ]
     },
     "execution_count": 21,
     "metadata": {},
     "output_type": "execute_result"
    }
   ],
   "source": [
    "import pandas as pd\n",
    "from functools import reduce\n",
    "data = {\n",
    " 'Name': ['Alice', 'Bob', 'Charlie', 'David'],\n",
    " 'Age': [25, 30, 35, 40],\n",
    " 'Salary': [50000, 60000, 70000, 80000]\n",
    "}\n",
    "df = pd.DataFrame(data)\n",
    "df"
   ]
  },
  {
   "cell_type": "code",
   "execution_count": 22,
   "id": "5fe47700-f0af-4dbc-8a75-90e505886488",
   "metadata": {},
   "outputs": [],
   "source": [
    "##1) map ()"
   ]
  },
  {
   "cell_type": "code",
   "execution_count": 23,
   "id": "0358005e-11ee-447b-9393-3f0fd127ccf5",
   "metadata": {},
   "outputs": [
    {
     "name": "stdout",
     "output_type": "stream",
     "text": [
      "Added Salaries:\n",
      " 0    52000\n",
      "1    62000\n",
      "2    72000\n",
      "3    82000\n",
      "Name: Salary, dtype: int64\n"
     ]
    }
   ],
   "source": [
    "def add(x):\n",
    " return x + 2000\n",
    "Salary_List = df['Salary'].map(add)\n",
    "print(\"Added Salaries:\\n\", Salary_List)"
   ]
  },
  {
   "cell_type": "code",
   "execution_count": 24,
   "id": "95824442-e2b9-4c22-b556-9503b9381a64",
   "metadata": {},
   "outputs": [],
   "source": [
    "##2) filter ()"
   ]
  },
  {
   "cell_type": "code",
   "execution_count": 25,
   "id": "fc9db845-44e6-4661-8b7c-8757e78c222d",
   "metadata": {},
   "outputs": [
    {
     "name": "stdout",
     "output_type": "stream",
     "text": [
      "Grater then 30 years Age : [35, 40]\n"
     ]
    }
   ],
   "source": [
    "def get(age):\n",
    " if age > 30:\n",
    "     return True\n",
    "l1=(df['Age'])    \n",
    "res=list(filter(get,l1))\n",
    "print(\"Grater then 30 years Age :\",res)"
   ]
  },
  {
   "cell_type": "code",
   "execution_count": 26,
   "id": "c4da564c-4110-4406-ae2d-06c204b58bb2",
   "metadata": {},
   "outputs": [],
   "source": [
    "##3)reduce ()"
   ]
  },
  {
   "cell_type": "code",
   "execution_count": 27,
   "id": "2c10f564-9a14-4a67-94b3-216e2b568df1",
   "metadata": {},
   "outputs": [
    {
     "name": "stdout",
     "output_type": "stream",
     "text": [
      "Total Salary: 260000\n"
     ]
    }
   ],
   "source": [
    "def add(x, y):\n",
    "    return x + y\n",
    "total_salary = reduce(add, df['Salary'])\n",
    "print(\"Total Salary:\", total_salary)"
   ]
  },
  {
   "cell_type": "code",
   "execution_count": 28,
   "id": "a295cf27-98c5-470b-b83e-ab47d5da81c6",
   "metadata": {},
   "outputs": [
    {
     "name": "stdout",
     "output_type": "stream",
     "text": [
      "Maximum Age: 40\n"
     ]
    }
   ],
   "source": [
    "def max_value(x, y):\n",
    "    return x if x > y else y\n",
    "max_age = reduce(max_value, df['Age'])\n",
    "print(\"Maximum Age:\", max_age)"
   ]
  },
  {
   "cell_type": "code",
   "execution_count": 29,
   "id": "1b6cc301-6f9e-4506-b9b3-ae455eb7dede",
   "metadata": {},
   "outputs": [],
   "source": [
    "##4) lambda ()"
   ]
  },
  {
   "cell_type": "code",
   "execution_count": 30,
   "id": "8324ebd2-8cd0-417f-9ec3-1f8be5251927",
   "metadata": {},
   "outputs": [
    {
     "name": "stdout",
     "output_type": "stream",
     "text": [
      "      Name  Age  Salary\n",
      "2  Charlie   35   70000\n",
      "3    David   40   80000\n"
     ]
    }
   ],
   "source": [
    "# Age grater then 30 years using lambda\n",
    "old= df[df['Age'].apply(lambda x: x > 30)]\n",
    "print(old)"
   ]
  },
  {
   "cell_type": "code",
   "execution_count": 31,
   "id": "b702f95e-42e5-476a-acb2-d64841652afb",
   "metadata": {},
   "outputs": [
    {
     "name": "stdout",
     "output_type": "stream",
     "text": [
      "Total Salary: 260000\n"
     ]
    }
   ],
   "source": [
    "# Sum of salary using Lambda\n",
    "total= reduce(lambda x, y: x + y, df['Salary'])\n",
    "print(\"Total Salary:\", total)"
   ]
  },
  {
   "cell_type": "markdown",
   "id": "305721ef-2850-4fdb-b936-0c4393ece605",
   "metadata": {},
   "source": [
    "# 2 B)Using pandas model perform the following operation "
   ]
  },
  {
   "cell_type": "markdown",
   "id": "f05790a3-bdbc-4200-919f-093c414407ce",
   "metadata": {},
   "source": [
    "## 1) Aggrigation and grouping "
   ]
  },
  {
   "cell_type": "code",
   "execution_count": 32,
   "id": "870268e1-7ee3-4a0c-bec9-b7c5fa794d02",
   "metadata": {},
   "outputs": [],
   "source": [
    "#* sum()\n",
    "#* min()\n",
    "#* max()\n",
    "#* mean()\n",
    "#* describe()\n",
    "#* count()\n",
    "#* std()\n",
    "#* sum()"
   ]
  },
  {
   "cell_type": "code",
   "execution_count": 33,
   "id": "356e2a18-6a3d-42c6-a281-6e535cca18ff",
   "metadata": {},
   "outputs": [
    {
     "name": "stdout",
     "output_type": "stream",
     "text": [
      "  Department  Age  Salary\n",
      "0         HR   25   50000\n",
      "1         IT   30   60000\n",
      "2         HR   45   52000\n",
      "3         IT   35   58000\n",
      "4    Finance   40   70000\n"
     ]
    }
   ],
   "source": [
    "import pandas as pd\n",
    "\n",
    "data = {\n",
    "    'Department': ['HR', 'IT', 'HR', 'IT', 'Finance'],\n",
    "    'Age': [25, 30, 45, 35, 40],\n",
    "    'Salary': [50000, 60000, 52000, 58000, 70000]\n",
    "}\n",
    "df = pd.DataFrame(data)\n",
    "print(df)"
   ]
  },
  {
   "cell_type": "code",
   "execution_count": 34,
   "id": "b9b46d4a-126d-4d4a-950f-1801989aee2f",
   "metadata": {},
   "outputs": [],
   "source": [
    "#Sum()"
   ]
  },
  {
   "cell_type": "code",
   "execution_count": 35,
   "id": "2d3e9d77-c76b-456f-9fef-3902c68ac7c5",
   "metadata": {},
   "outputs": [
    {
     "data": {
      "text/plain": [
       "np.int64(175)"
      ]
     },
     "execution_count": 35,
     "metadata": {},
     "output_type": "execute_result"
    }
   ],
   "source": [
    "df['Age'].sum()"
   ]
  },
  {
   "cell_type": "code",
   "execution_count": 36,
   "id": "68eb903d-91fa-4c48-a96b-140ca863658c",
   "metadata": {},
   "outputs": [],
   "source": [
    "## Min()"
   ]
  },
  {
   "cell_type": "code",
   "execution_count": 37,
   "id": "47dbb6c7-cf25-4984-b2be-829fe85c4195",
   "metadata": {},
   "outputs": [
    {
     "data": {
      "text/plain": [
       "np.int64(25)"
      ]
     },
     "execution_count": 37,
     "metadata": {},
     "output_type": "execute_result"
    }
   ],
   "source": [
    "df['Age'].min()"
   ]
  },
  {
   "cell_type": "code",
   "execution_count": 38,
   "id": "99d5679a-745d-43e1-a2f5-e1a6c17ef6d2",
   "metadata": {},
   "outputs": [],
   "source": [
    "# max"
   ]
  },
  {
   "cell_type": "code",
   "execution_count": 39,
   "id": "cd09f4c7-16ba-4b57-8b4c-4cd3c8a91167",
   "metadata": {},
   "outputs": [
    {
     "data": {
      "text/plain": [
       "np.int64(45)"
      ]
     },
     "execution_count": 39,
     "metadata": {},
     "output_type": "execute_result"
    }
   ],
   "source": [
    "df['Age'].max()"
   ]
  },
  {
   "cell_type": "code",
   "execution_count": 40,
   "id": "b97245e3-8237-4669-8628-aa2a21c4c679",
   "metadata": {},
   "outputs": [],
   "source": [
    "# mean"
   ]
  },
  {
   "cell_type": "code",
   "execution_count": 41,
   "id": "d388a9cd-5369-4d92-bb90-850a742a712a",
   "metadata": {},
   "outputs": [
    {
     "data": {
      "text/plain": [
       "np.float64(35.0)"
      ]
     },
     "execution_count": 41,
     "metadata": {},
     "output_type": "execute_result"
    }
   ],
   "source": [
    "df['Age'].mean()"
   ]
  },
  {
   "cell_type": "code",
   "execution_count": 42,
   "id": "bc584ab2-cb23-4097-8ab4-57ffb66bb9c6",
   "metadata": {},
   "outputs": [],
   "source": [
    "# standard Diviation"
   ]
  },
  {
   "cell_type": "code",
   "execution_count": 43,
   "id": "775f2d72-6cd0-46a4-a72f-07fe1e8f26ab",
   "metadata": {},
   "outputs": [
    {
     "data": {
      "text/plain": [
       "np.float64(7.905694150420948)"
      ]
     },
     "execution_count": 43,
     "metadata": {},
     "output_type": "execute_result"
    }
   ],
   "source": [
    "df['Age'].std()"
   ]
  },
  {
   "cell_type": "code",
   "execution_count": 44,
   "id": "21ac20ff-01a8-4d81-bdeb-dd0d072fe753",
   "metadata": {},
   "outputs": [],
   "source": [
    "# Describe"
   ]
  },
  {
   "cell_type": "code",
   "execution_count": 45,
   "id": "7f471cb8-f83f-475a-a573-35c4cadc3486",
   "metadata": {},
   "outputs": [
    {
     "data": {
      "text/plain": [
       "count     5.000000\n",
       "mean     35.000000\n",
       "std       7.905694\n",
       "min      25.000000\n",
       "25%      30.000000\n",
       "50%      35.000000\n",
       "75%      40.000000\n",
       "max      45.000000\n",
       "Name: Age, dtype: float64"
      ]
     },
     "execution_count": 45,
     "metadata": {},
     "output_type": "execute_result"
    }
   ],
   "source": [
    "df['Age']. describe()"
   ]
  },
  {
   "cell_type": "code",
   "execution_count": 46,
   "id": "7c8176cd-b902-450f-a20c-df09747caa42",
   "metadata": {},
   "outputs": [],
   "source": [
    "# Count"
   ]
  },
  {
   "cell_type": "code",
   "execution_count": 47,
   "id": "227d7fb0-f02c-4977-a3ae-fc4924e22ae6",
   "metadata": {},
   "outputs": [
    {
     "data": {
      "text/plain": [
       "np.int64(5)"
      ]
     },
     "execution_count": 47,
     "metadata": {},
     "output_type": "execute_result"
    }
   ],
   "source": [
    "df['Age']. count()"
   ]
  },
  {
   "cell_type": "markdown",
   "id": "b5938a24-4ce5-4695-bbc3-d093c1507f17",
   "metadata": {},
   "source": [
    "## 🔹 Grouping Examples\n",
    "\n",
    "1. Sum of salaries by department\n"
   ]
  },
  {
   "cell_type": "code",
   "execution_count": 48,
   "id": "95ab518a-3701-4c1e-a43f-08f0cdc6c6cd",
   "metadata": {},
   "outputs": [
    {
     "name": "stdout",
     "output_type": "stream",
     "text": [
      "Department\n",
      "Finance     70000\n",
      "HR         102000\n",
      "IT         118000\n",
      "Name: Salary, dtype: int64\n"
     ]
    }
   ],
   "source": [
    "print(df.groupby('Department')['Salary'].sum())"
   ]
  },
  {
   "cell_type": "code",
   "execution_count": 49,
   "id": "454f5cc8-e12b-4391-b605-328ff1746e14",
   "metadata": {},
   "outputs": [],
   "source": [
    "#2. Average salary by department"
   ]
  },
  {
   "cell_type": "code",
   "execution_count": 50,
   "id": "cb86d0af-bb99-41d3-942d-9982bca9f5e9",
   "metadata": {},
   "outputs": [
    {
     "name": "stdout",
     "output_type": "stream",
     "text": [
      "Department\n",
      "Finance    70000.0\n",
      "HR         51000.0\n",
      "IT         59000.0\n",
      "Name: Salary, dtype: float64\n"
     ]
    }
   ],
   "source": [
    "print(df.groupby('Department')['Salary'].mean())"
   ]
  },
  {
   "cell_type": "code",
   "execution_count": 51,
   "id": "1c3732d4-70b2-4829-84d2-f40324d1bc07",
   "metadata": {},
   "outputs": [],
   "source": [
    "#3. Count of employees per departmen"
   ]
  },
  {
   "cell_type": "code",
   "execution_count": 52,
   "id": "51bd0276-716e-45be-8d3a-06f750bc2841",
   "metadata": {},
   "outputs": [
    {
     "name": "stdout",
     "output_type": "stream",
     "text": [
      "Department\n",
      "Finance    1\n",
      "HR         2\n",
      "IT         2\n",
      "Name: Age, dtype: int64\n"
     ]
    }
   ],
   "source": [
    "print(df.groupby('Department')['Age'].count())"
   ]
  },
  {
   "cell_type": "code",
   "execution_count": 53,
   "id": "4169e087-de0b-47df-a813-f862e7947050",
   "metadata": {},
   "outputs": [],
   "source": [
    "# 4. Multiple aggregations together"
   ]
  },
  {
   "cell_type": "code",
   "execution_count": 54,
   "id": "b5aebae2-bd3c-46de-947c-58dadbb6cc1d",
   "metadata": {},
   "outputs": [
    {
     "name": "stdout",
     "output_type": "stream",
     "text": [
      "             Age      Salary                \n",
      "            mean max     sum     mean    min\n",
      "Department                                  \n",
      "Finance     40.0  40   70000  70000.0  70000\n",
      "HR          35.0  45  102000  51000.0  50000\n",
      "IT          32.5  35  118000  59000.0  58000\n"
     ]
    }
   ],
   "source": [
    "print(df.groupby('Department').agg({\n",
    "    'Age': ['mean', 'max'],\n",
    "    'Salary': ['sum', 'mean', 'min']\n",
    "}))"
   ]
  },
  {
   "cell_type": "markdown",
   "id": "bcfd51c5-22cf-4275-aaf7-e036bf105936",
   "metadata": {},
   "source": [
    "## 2) Demonstrate map,filter,reduce & lambda function with dataframe"
   ]
  },
  {
   "cell_type": "code",
   "execution_count": 55,
   "id": "369929a6-bb2c-4870-bf73-de85d823ce3e",
   "metadata": {},
   "outputs": [],
   "source": [
    "# Map"
   ]
  },
  {
   "cell_type": "code",
   "execution_count": 56,
   "id": "b01ca748-1e6b-4fe2-92f1-03105f89270f",
   "metadata": {},
   "outputs": [
    {
     "data": {
      "text/html": [
       "<div>\n",
       "<style scoped>\n",
       "    .dataframe tbody tr th:only-of-type {\n",
       "        vertical-align: middle;\n",
       "    }\n",
       "\n",
       "    .dataframe tbody tr th {\n",
       "        vertical-align: top;\n",
       "    }\n",
       "\n",
       "    .dataframe thead th {\n",
       "        text-align: right;\n",
       "    }\n",
       "</style>\n",
       "<table border=\"1\" class=\"dataframe\">\n",
       "  <thead>\n",
       "    <tr style=\"text-align: right;\">\n",
       "      <th></th>\n",
       "      <th>Department</th>\n",
       "      <th>Age</th>\n",
       "      <th>Salary</th>\n",
       "      <th>Salary_upper</th>\n",
       "    </tr>\n",
       "  </thead>\n",
       "  <tbody>\n",
       "    <tr>\n",
       "      <th>0</th>\n",
       "      <td>HR</td>\n",
       "      <td>25</td>\n",
       "      <td>50000</td>\n",
       "      <td>51000</td>\n",
       "    </tr>\n",
       "    <tr>\n",
       "      <th>1</th>\n",
       "      <td>IT</td>\n",
       "      <td>30</td>\n",
       "      <td>60000</td>\n",
       "      <td>61000</td>\n",
       "    </tr>\n",
       "    <tr>\n",
       "      <th>2</th>\n",
       "      <td>HR</td>\n",
       "      <td>45</td>\n",
       "      <td>52000</td>\n",
       "      <td>53000</td>\n",
       "    </tr>\n",
       "    <tr>\n",
       "      <th>3</th>\n",
       "      <td>IT</td>\n",
       "      <td>35</td>\n",
       "      <td>58000</td>\n",
       "      <td>59000</td>\n",
       "    </tr>\n",
       "    <tr>\n",
       "      <th>4</th>\n",
       "      <td>Finance</td>\n",
       "      <td>40</td>\n",
       "      <td>70000</td>\n",
       "      <td>71000</td>\n",
       "    </tr>\n",
       "  </tbody>\n",
       "</table>\n",
       "</div>"
      ],
      "text/plain": [
       "  Department  Age  Salary  Salary_upper\n",
       "0         HR   25   50000         51000\n",
       "1         IT   30   60000         61000\n",
       "2         HR   45   52000         53000\n",
       "3         IT   35   58000         59000\n",
       "4    Finance   40   70000         71000"
      ]
     },
     "execution_count": 56,
     "metadata": {},
     "output_type": "execute_result"
    }
   ],
   "source": [
    "df['Salary_upper'] = df['Salary'].map(lambda x: x+1000)\n",
    "df"
   ]
  },
  {
   "cell_type": "code",
   "execution_count": 57,
   "id": "a435c85e-878b-4252-902a-c9f7769498fe",
   "metadata": {},
   "outputs": [],
   "source": [
    "# filter"
   ]
  },
  {
   "cell_type": "code",
   "execution_count": 58,
   "id": "d86f75ab-13f0-43a3-8b80-534fbb42cb5b",
   "metadata": {},
   "outputs": [
    {
     "data": {
      "text/html": [
       "<div>\n",
       "<style scoped>\n",
       "    .dataframe tbody tr th:only-of-type {\n",
       "        vertical-align: middle;\n",
       "    }\n",
       "\n",
       "    .dataframe tbody tr th {\n",
       "        vertical-align: top;\n",
       "    }\n",
       "\n",
       "    .dataframe thead th {\n",
       "        text-align: right;\n",
       "    }\n",
       "</style>\n",
       "<table border=\"1\" class=\"dataframe\">\n",
       "  <thead>\n",
       "    <tr style=\"text-align: right;\">\n",
       "      <th></th>\n",
       "      <th>Department</th>\n",
       "      <th>Age</th>\n",
       "      <th>Salary</th>\n",
       "      <th>Salary_upper</th>\n",
       "    </tr>\n",
       "  </thead>\n",
       "  <tbody>\n",
       "    <tr>\n",
       "      <th>1</th>\n",
       "      <td>IT</td>\n",
       "      <td>30</td>\n",
       "      <td>60000</td>\n",
       "      <td>61000</td>\n",
       "    </tr>\n",
       "    <tr>\n",
       "      <th>2</th>\n",
       "      <td>HR</td>\n",
       "      <td>45</td>\n",
       "      <td>52000</td>\n",
       "      <td>53000</td>\n",
       "    </tr>\n",
       "    <tr>\n",
       "      <th>3</th>\n",
       "      <td>IT</td>\n",
       "      <td>35</td>\n",
       "      <td>58000</td>\n",
       "      <td>59000</td>\n",
       "    </tr>\n",
       "    <tr>\n",
       "      <th>4</th>\n",
       "      <td>Finance</td>\n",
       "      <td>40</td>\n",
       "      <td>70000</td>\n",
       "      <td>71000</td>\n",
       "    </tr>\n",
       "  </tbody>\n",
       "</table>\n",
       "</div>"
      ],
      "text/plain": [
       "  Department  Age  Salary  Salary_upper\n",
       "1         IT   30   60000         61000\n",
       "2         HR   45   52000         53000\n",
       "3         IT   35   58000         59000\n",
       "4    Finance   40   70000         71000"
      ]
     },
     "execution_count": 58,
     "metadata": {},
     "output_type": "execute_result"
    }
   ],
   "source": [
    "filtered_df = df[df['Salary'] > 50000]\n",
    "filtered_df "
   ]
  },
  {
   "cell_type": "code",
   "execution_count": 59,
   "id": "4fd49ee1-18e9-4966-a2e7-4acfb31cfedd",
   "metadata": {},
   "outputs": [],
   "source": [
    "# reduce\n",
    "from functools import reduce"
   ]
  },
  {
   "cell_type": "code",
   "execution_count": 60,
   "id": "c7354574-ce8e-4b66-8c6e-c9b240fd3d5f",
   "metadata": {},
   "outputs": [
    {
     "name": "stdout",
     "output_type": "stream",
     "text": [
      "290000\n"
     ]
    }
   ],
   "source": [
    "m=reduce(lambda x,y: x+y,df['Salary'])\n",
    "print(m)"
   ]
  },
  {
   "cell_type": "code",
   "execution_count": null,
   "id": "d838e1a6-ac90-4e70-9340-50afceeaad5b",
   "metadata": {},
   "outputs": [],
   "source": []
  }
 ],
 "metadata": {
  "kernelspec": {
   "display_name": "Python 3 (ipykernel)",
   "language": "python",
   "name": "python3"
  },
  "language_info": {
   "codemirror_mode": {
    "name": "ipython",
    "version": 3
   },
   "file_extension": ".py",
   "mimetype": "text/x-python",
   "name": "python",
   "nbconvert_exporter": "python",
   "pygments_lexer": "ipython3",
   "version": "3.13.7"
  }
 },
 "nbformat": 4,
 "nbformat_minor": 5
}
